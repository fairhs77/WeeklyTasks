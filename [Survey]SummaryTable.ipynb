{
 "cells": [
  {
   "cell_type": "markdown",
   "metadata": {},
   "source": [
    "# INF702 - Text Mining in Social Media\n"
   ]
  },
  {
   "cell_type": "markdown",
   "metadata": {},
   "source": [
    "/xlsx ( folder)\n",
    "Ontology_PreSNA.xlsx\n",
    "ML_Super.xlsx\n",
    "ML_Unsuper.xlsx\n",
    "Emerging Technologies.xlsx"
   ]
  },
  {
   "cell_type": "code",
   "execution_count": null,
   "metadata": {
    "collapsed": true
   },
   "outputs": [],
   "source": [
    "import matplotlib.pyplot as plt\n",
    "import numpy as np\n",
    "import seaborn as sns\n",
    "import pandas as pd  # Importing Pandas"
   ]
  },
  {
   "cell_type": "code",
   "execution_count": 74,
   "metadata": {},
   "outputs": [],
   "source": [
    "import os\n",
    "outfolder = 'xlsx'\n",
    "if(os.path.exists(outfolder)==False):\n",
    "    os.makedirs(outfolder)\n",
    "    \n",
    "sns.set() # default set\n",
    "\n",
    "sns.set_style(\"white\")\n",
    "\n",
    "target_label= 'Applications'\n",
    "new_label = 'Application'\n"
   ]
  },
  {
   "cell_type": "code",
   "execution_count": 75,
   "metadata": {
    "collapsed": true
   },
   "outputs": [],
   "source": [
    "import matplotlib as mpl\n",
    "mpl.rcParams['font.family'] = 'Calibri'\n",
    "sns.set(font_scale=1.5)\n",
    "sns.set_palette(sns.color_palette(\"Greens\"))"
   ]
  },
  {
   "cell_type": "code",
   "execution_count": 76,
   "metadata": {
    "scrolled": false
   },
   "outputs": [
    {
     "name": "stdout",
     "output_type": "stream",
     "text": [
      "265\n",
      "265\n"
     ]
    },
    {
     "name": "stderr",
     "output_type": "stream",
     "text": [
      "C:\\prj\\anaconda3\\lib\\site-packages\\ipykernel_launcher.py:19: FutureWarning: Sorting because non-concatenation axis is not aligned. A future version\n",
      "of pandas will change to not sort by default.\n",
      "\n",
      "To accept the future behavior, pass 'sort=False'.\n",
      "\n",
      "To retain the current behavior and silence the warning, pass 'sort=True'.\n",
      "\n"
     ]
    },
    {
     "data": {
      "text/html": [
       "<div>\n",
       "<style scoped>\n",
       "    .dataframe tbody tr th:only-of-type {\n",
       "        vertical-align: middle;\n",
       "    }\n",
       "\n",
       "    .dataframe tbody tr th {\n",
       "        vertical-align: top;\n",
       "    }\n",
       "\n",
       "    .dataframe thead th {\n",
       "        text-align: right;\n",
       "    }\n",
       "</style>\n",
       "<table border=\"1\" class=\"dataframe\">\n",
       "  <thead>\n",
       "    <tr style=\"text-align: right;\">\n",
       "      <th></th>\n",
       "      <th>Applications</th>\n",
       "      <th>Association</th>\n",
       "      <th>Authors</th>\n",
       "      <th>Authors2</th>\n",
       "      <th>CC</th>\n",
       "      <th>CF</th>\n",
       "      <th>CNN</th>\n",
       "      <th>Catefories</th>\n",
       "      <th>Challenges</th>\n",
       "      <th>Citation</th>\n",
       "      <th>...</th>\n",
       "      <th>Sources</th>\n",
       "      <th>Synthesis</th>\n",
       "      <th>TL</th>\n",
       "      <th>TM</th>\n",
       "      <th>TW</th>\n",
       "      <th>TYPE</th>\n",
       "      <th>Title</th>\n",
       "      <th>Year</th>\n",
       "      <th>keywords</th>\n",
       "      <th>week</th>\n",
       "    </tr>\n",
       "  </thead>\n",
       "  <tbody>\n",
       "    <tr>\n",
       "      <th>0</th>\n",
       "      <td>NaN</td>\n",
       "      <td>ASTES</td>\n",
       "      <td>Said A et al., 2017)</td>\n",
       "      <td>Said A, Mostafa , Azza Abdel &amp; Khaled ,2017</td>\n",
       "      <td>NaN</td>\n",
       "      <td>NaN</td>\n",
       "      <td>NaN</td>\n",
       "      <td>w4p</td>\n",
       "      <td>NaN</td>\n",
       "      <td>Said A. Salloum, Mostafa Al-Emran, Azza Abdel ...</td>\n",
       "      <td>...</td>\n",
       "      <td>ref</td>\n",
       "      <td>NaN</td>\n",
       "      <td>NaN</td>\n",
       "      <td>TM</td>\n",
       "      <td>TW</td>\n",
       "      <td>LR</td>\n",
       "      <td>A Survey of Text Mining in Social Media: Face...</td>\n",
       "      <td>2017.0</td>\n",
       "      <td>Text Mining, Social Media, Facebook, Twitter</td>\n",
       "      <td>w1</td>\n",
       "    </tr>\n",
       "    <tr>\n",
       "      <th>1</th>\n",
       "      <td>NaN</td>\n",
       "      <td>NaN</td>\n",
       "      <td>Kwon et al .(2017)</td>\n",
       "      <td>Kwon, Kim &amp; Park, 2017</td>\n",
       "      <td>NaN</td>\n",
       "      <td>NaN</td>\n",
       "      <td>NaN</td>\n",
       "      <td>w4p</td>\n",
       "      <td>NaN</td>\n",
       "      <td>Kwon, H., Kim, J., &amp; Park, Y. (2017). Applying...</td>\n",
       "      <td>...</td>\n",
       "      <td>ref</td>\n",
       "      <td>NaN</td>\n",
       "      <td>NaN</td>\n",
       "      <td>TM</td>\n",
       "      <td>NaN</td>\n",
       "      <td>R</td>\n",
       "      <td>Applying LSA text mining technique in envision...</td>\n",
       "      <td>2017.0</td>\n",
       "      <td>Emerging Technology, Drone, Foresight, Future-...</td>\n",
       "      <td>w1</td>\n",
       "    </tr>\n",
       "    <tr>\n",
       "      <th>2</th>\n",
       "      <td>NaN</td>\n",
       "      <td>NaN</td>\n",
       "      <td>Kaur et al .(2017)</td>\n",
       "      <td>Kaur &amp; Gupta, 2017</td>\n",
       "      <td>NaN</td>\n",
       "      <td>NaN</td>\n",
       "      <td>NaN</td>\n",
       "      <td>NaN</td>\n",
       "      <td>NaN</td>\n",
       "      <td>Kaur, R., &amp; Gupta, G. (2017). RESEARCH PAPER O...</td>\n",
       "      <td>...</td>\n",
       "      <td>NaN</td>\n",
       "      <td>NaN</td>\n",
       "      <td>NaN</td>\n",
       "      <td>NaN</td>\n",
       "      <td>NaN</td>\n",
       "      <td>R</td>\n",
       "      <td>RESEARCH PAPER ON SENTIMENTAL ANALYSIS OF ONLI...</td>\n",
       "      <td>2017.0</td>\n",
       "      <td>Sentimental Analysis, Opinion Mining, Frequent...</td>\n",
       "      <td>w1</td>\n",
       "    </tr>\n",
       "  </tbody>\n",
       "</table>\n",
       "<p>3 rows × 59 columns</p>\n",
       "</div>"
      ],
      "text/plain": [
       "  Applications Association               Authors  \\\n",
       "0          NaN       ASTES  Said A et al., 2017)   \n",
       "1          NaN         NaN    Kwon et al .(2017)   \n",
       "2          NaN         NaN    Kaur et al .(2017)   \n",
       "\n",
       "                                      Authors2   CC   CF  CNN Catefories  \\\n",
       "0  Said A, Mostafa , Azza Abdel & Khaled ,2017  NaN  NaN  NaN        w4p   \n",
       "1                       Kwon, Kim & Park, 2017  NaN  NaN  NaN        w4p   \n",
       "2                           Kaur & Gupta, 2017  NaN  NaN  NaN        NaN   \n",
       "\n",
       "  Challenges                                           Citation  ...  Sources  \\\n",
       "0        NaN  Said A. Salloum, Mostafa Al-Emran, Azza Abdel ...  ...      ref   \n",
       "1        NaN  Kwon, H., Kim, J., & Park, Y. (2017). Applying...  ...      ref   \n",
       "2        NaN  Kaur, R., & Gupta, G. (2017). RESEARCH PAPER O...  ...      NaN   \n",
       "\n",
       "  Synthesis   TL   TM   TW TYPE  \\\n",
       "0       NaN  NaN   TM   TW   LR   \n",
       "1       NaN  NaN   TM  NaN    R   \n",
       "2       NaN  NaN  NaN  NaN    R   \n",
       "\n",
       "                                               Title    Year  \\\n",
       "0   A Survey of Text Mining in Social Media: Face...  2017.0   \n",
       "1  Applying LSA text mining technique in envision...  2017.0   \n",
       "2  RESEARCH PAPER ON SENTIMENTAL ANALYSIS OF ONLI...  2017.0   \n",
       "\n",
       "                                            keywords  week  \n",
       "0       Text Mining, Social Media, Facebook, Twitter    w1  \n",
       "1  Emerging Technology, Drone, Foresight, Future-...    w1  \n",
       "2  Sentimental Analysis, Opinion Mining, Frequent...    w1  \n",
       "\n",
       "[3 rows x 59 columns]"
      ]
     },
     "execution_count": 76,
     "metadata": {},
     "output_type": "execute_result"
    }
   ],
   "source": [
    "fname1 = 'datasets/References1.xlsx'\n",
    "pdf1 = pd.read_excel(fname1)\n",
    "pdf1.head(3)\n",
    "\n",
    "#print(pdf1.info())\n",
    "\n",
    "\n",
    "#pdf1['Year'] = pdf1['Year'].astype(int)\n",
    "\n",
    "fname2 = 'datasets/References2.xlsx'\n",
    "pdf2 = pd.read_excel(fname2)\n",
    "pdf2.head(3)\n",
    "\n",
    "#pdf2['Year'] = pdf2['Year'].astype(int)\n",
    "\n",
    "#print(pdf2.info())\n",
    "\n",
    "frames = [pdf1,pdf2]\n",
    "allref=pd.concat(frames)\n",
    "\n",
    "print(len(allref))\n",
    "allref=allref.reset_index(drop=True)\n",
    "print(len(allref))\n",
    "#allref.index.droplevel(-1)\n",
    "\n",
    "#print(allref.info())\n",
    "\n",
    "allref.head(3)\n",
    "\n"
   ]
  },
  {
   "cell_type": "code",
   "execution_count": 77,
   "metadata": {},
   "outputs": [
    {
     "name": "stdout",
     "output_type": "stream",
     "text": [
      "265\n",
      "265\n"
     ]
    }
   ],
   "source": [
    "#pdf = pdf.replace(r'\\\\n',' ', regex=True)\n",
    "print(len(allref))\n",
    "allref = allref.replace('\\n',' ', regex=True)\n",
    "allref.head(3)\n",
    "print(len(allref))"
   ]
  },
  {
   "cell_type": "code",
   "execution_count": 78,
   "metadata": {},
   "outputs": [
    {
     "name": "stdout",
     "output_type": "stream",
     "text": [
      "265\n",
      "131\n"
     ]
    }
   ],
   "source": [
    "print(len(allref))\n",
    "allref= allref.dropna(axis=0, subset=['Sources'])\n",
    "allref['Sources'].unique()\n",
    "#allref.head(2)\n",
    "print(len(allref))\n"
   ]
  },
  {
   "cell_type": "code",
   "execution_count": 79,
   "metadata": {
    "collapsed": true
   },
   "outputs": [],
   "source": [
    "allref['Year'] = allref['Year'].astype(object)\n",
    "\n",
    "\n"
   ]
  },
  {
   "cell_type": "code",
   "execution_count": 80,
   "metadata": {
    "collapsed": true
   },
   "outputs": [],
   "source": [
    "def trim_fraction(text):\n",
    "    if '.0' in text:\n",
    "        return text[:text.rfind('.0')]\n",
    "    return text"
   ]
  },
  {
   "cell_type": "code",
   "execution_count": 81,
   "metadata": {
    "collapsed": true
   },
   "outputs": [],
   "source": [
    "allref['Year']= allref['Year'].astype(str).apply(trim_fraction)\n",
    "#stat_pd=allref.join(s)\n",
    "#stat_pd.info()\n",
    "#application_df = pd.DataFrame()\n",
    "\n",
    "\n"
   ]
  },
  {
   "cell_type": "code",
   "execution_count": 82,
   "metadata": {},
   "outputs": [],
   "source": [
    "def getTable1(query, alldf, QueryName, withFile):\n",
    "    subdf=alldf.query(query)\n",
    "    \n",
    "    #print('getTable2 length', len(subdf))\n",
    "    outdf = pd.DataFrame()\n",
    "    \n",
    "    outdf['Authors'] = subdf['Authors']\n",
    "    \n",
    "    \n",
    "    outdf['keywords'] = subdf['keywords']\n",
    "    outdf['Applications'] = subdf['Applications']\n",
    "    outdf['Emerging Technologies'] = subdf['Emerging Technologies']\n",
    "    outdf['ML'] = subdf['ML']\n",
    "    outdf['Challenges'] = subdf['Challenges']\n",
    "    outdf['Future Works'] = subdf['Future Works']\n",
    "    outdf['Year'] = subdf['Year']\n",
    "\n",
    "    \n",
    "    #adf= application_df.drop_duplicates(keep='first')\n",
    "    \n",
    "    print('getTable2 length outdf', len(outdf))\n",
    "    writer = pd.ExcelWriter(outfolder+'/'+QueryName+'.xlsx')\n",
    "    outdf.to_excel(writer,'Sheet1')\n",
    "    writer.save()\n",
    "    \n",
    "    return  outdf\n",
    "#application_df.head(5)"
   ]
  },
  {
   "cell_type": "code",
   "execution_count": 83,
   "metadata": {
    "scrolled": false
   },
   "outputs": [],
   "source": [
    "def getTable2(query, alldf, QueryName, withFile):\n",
    "    subdf=alldf.query(query)\n",
    "    \n",
    "    #print('getTable2 length', len(subdf))\n",
    "    outdf = pd.DataFrame()\n",
    "    \n",
    "    outdf['Authors'] = subdf['Authors']\n",
    "    \n",
    "    \n",
    "    outdf['keywords'] = subdf['keywords']\n",
    "    outdf['Applications'] = subdf['Applications']\n",
    "    outdf['Emerging Technologies'] = subdf['Emerging Technologies']\n",
    "    outdf['ML'] = subdf['ML']\n",
    "    outdf['Challenges'] = subdf['Challenges']\n",
    "    outdf['Future Works'] = subdf['Future Works']\n",
    "    outdf['Year'] = subdf['Year']\n",
    "\n",
    "    \n",
    "    #adf= application_df.drop_duplicates(keep='first')\n",
    "    \n",
    "    print('getTable2 length outdf', len(outdf))\n",
    "    writer = pd.ExcelWriter(outfolder+'/'+ QueryName+'.xlsx')\n",
    "    outdf.to_excel(writer,'Sheet1')\n",
    "    writer.save()\n",
    "    \n",
    "    return  outdf\n",
    "#application_df.head(5)"
   ]
  },
  {
   "cell_type": "code",
   "execution_count": 84,
   "metadata": {},
   "outputs": [
    {
     "name": "stdout",
     "output_type": "stream",
     "text": [
      "getTable2 length outdf 12\n"
     ]
    }
   ],
   "source": [
    "query = \"ML=='Supervised learning'\"\n",
    "QueryName = \"ML_Super\"\n",
    "retd = getTable2(query, allref, QueryName,True)\n"
   ]
  },
  {
   "cell_type": "code",
   "execution_count": 85,
   "metadata": {},
   "outputs": [
    {
     "name": "stdout",
     "output_type": "stream",
     "text": [
      "getTable2 length outdf 17\n"
     ]
    }
   ],
   "source": [
    "query = \"ML=='Unsupervised learning'\"\n",
    "QueryName = \"ML_Unsuper\"\n",
    "retd = getTable2(query, allref, QueryName,True)"
   ]
  },
  {
   "cell_type": "code",
   "execution_count": 86,
   "metadata": {},
   "outputs": [
    {
     "name": "stdout",
     "output_type": "stream",
     "text": [
      "getTable2 length outdf 2\n"
     ]
    }
   ],
   "source": [
    "query = \"ML=='Semi-supervised learning'\"\n",
    "QueryName = \"ML_Semi-super\"\n",
    "retd = getTable2(query, allref, QueryName,True)"
   ]
  },
  {
   "cell_type": "code",
   "execution_count": 87,
   "metadata": {},
   "outputs": [
    {
     "name": "stdout",
     "output_type": "stream",
     "text": [
      "getTable2 length outdf 9\n"
     ]
    }
   ],
   "source": [
    "query = \"Ontology=='Text Analysis'\"\n",
    "QueryName = \"OnTology_TA\"\n",
    "retd = getTable2(query, allref, QueryName,True)"
   ]
  },
  {
   "cell_type": "code",
   "execution_count": 88,
   "metadata": {},
   "outputs": [
    {
     "name": "stdout",
     "output_type": "stream",
     "text": [
      "getTable2 length outdf 25\n"
     ]
    }
   ],
   "source": [
    "query = \"Ontology=='Text Analysis based on SA'\"\n",
    "QueryName = \"Ontology_TA_SA\"\n",
    "retd = getTable2(query, allref, QueryName,True)\n",
    "\n"
   ]
  },
  {
   "cell_type": "code",
   "execution_count": 89,
   "metadata": {},
   "outputs": [
    {
     "name": "stdout",
     "output_type": "stream",
     "text": [
      "getTable2 length outdf 7\n"
     ]
    }
   ],
   "source": [
    "query = \"Ontology=='Prediction based on TA'\"\n",
    "QueryName = \"Ontology_PreTA\"\n",
    "retd = getTable2(query, allref, QueryName,True)"
   ]
  },
  {
   "cell_type": "code",
   "execution_count": 90,
   "metadata": {},
   "outputs": [
    {
     "name": "stdout",
     "output_type": "stream",
     "text": [
      "getTable2 length outdf 5\n"
     ]
    }
   ],
   "source": [
    "query = \"Ontology=='Prediction based on SNA'\"\n",
    "QueryName = \"Ontology_PreSNA\"\n",
    "retd = getTable2(query, allref, QueryName,True)"
   ]
  },
  {
   "cell_type": "code",
   "execution_count": 91,
   "metadata": {},
   "outputs": [
    {
     "name": "stdout",
     "output_type": "stream",
     "text": [
      "getTable2 length outdf 11\n"
     ]
    }
   ],
   "source": [
    "query = \"Ontology=='Social Network Analysis'\"\n",
    "QueryName = \"Ontology_SNA\"\n",
    "retd = getTable2(query, allref, QueryName,True)"
   ]
  },
  {
   "cell_type": "code",
   "execution_count": 92,
   "metadata": {},
   "outputs": [
    {
     "name": "stdout",
     "output_type": "stream",
     "text": [
      "getTable2 length outdf 3\n"
     ]
    }
   ],
   "source": [
    "df =allref\n",
    "df['index'] = df['Title'].str.find('swarm') #, na = False)\n",
    "#df.head()\n",
    "query = \"index !=-1\"\n",
    "QueryName = \"01Title_swarm\"\n",
    "retd = getTable2(query, df, QueryName,True)"
   ]
  },
  {
   "cell_type": "code",
   "execution_count": 93,
   "metadata": {},
   "outputs": [
    {
     "name": "stdout",
     "output_type": "stream",
     "text": [
      "getTable2 length outdf 6\n"
     ]
    }
   ],
   "source": [
    "df =allref\n",
    "df['index'] = df['Title'].str.find('Swarm') #, na = False)\n",
    "#df.head()\n",
    "query = \"index !=-1\"\n",
    "QueryName = \"02Title_Swarm\"\n",
    "retd = getTable2(query, df, QueryName,True)"
   ]
  },
  {
   "cell_type": "code",
   "execution_count": 94,
   "metadata": {},
   "outputs": [
    {
     "name": "stdout",
     "output_type": "stream",
     "text": [
      "getTable2 length outdf 6\n"
     ]
    }
   ],
   "source": [
    "\n",
    "df =allref\n",
    "df['ndex'] = df['Title'].str.find('swarm') #, na = False)\n",
    "#df.head()\n",
    "query = \"index !=-1\"\n",
    "QueryName = \"03Keywords_swarm\"\n",
    "retd = getTable2(query, df, QueryName,True)"
   ]
  },
  {
   "cell_type": "code",
   "execution_count": 95,
   "metadata": {},
   "outputs": [
    {
     "name": "stdout",
     "output_type": "stream",
     "text": [
      "getTable2 length outdf 6\n"
     ]
    }
   ],
   "source": [
    "df =allref\n",
    "df['index'] = df['Title'].str.find('Swarm') #, na = False)\n",
    "#df.head()\n",
    "query = \"index !=-1\"\n",
    "QueryName = \"04Keywords_Swarm\"\n",
    "retd = getTable2(query, df, QueryName,True)"
   ]
  },
  {
   "cell_type": "code",
   "execution_count": 96,
   "metadata": {},
   "outputs": [
    {
     "name": "stdout",
     "output_type": "stream",
     "text": [
      "131\n",
      "getTable2 length outdf 3\n"
     ]
    }
   ],
   "source": [
    "df =allref\n",
    "print(len(df))\n",
    "\n",
    "#query = \"Ontology=='Prediction based on SNA'\"\n",
    "#subdf=allref.query.substring(query)\n",
    "df['index'] = df['Title'].str.find('swarm') #, na = False)\n",
    "#df.head()\n",
    "query = \"index !=-1\"\n",
    "QueryName = \"Title_swarm\"\n",
    "retd = getTable2(query, allref, QueryName,True)\n",
    "#df['Index'] = lambda x: x.find('Super'), df['ML']\n",
    "#print(len(df))\n",
    "#print(df['Index'])"
   ]
  },
  {
   "cell_type": "code",
   "execution_count": 97,
   "metadata": {
    "collapsed": true
   },
   "outputs": [],
   "source": [
    "def getTable3(alldf):\n",
    "    #subdf=alldf.query(query)\n",
    "    subdf=alldf\n",
    "    \n",
    "    #print('getTable2 length', len(subdf))\n",
    "    outdf = pd.DataFrame()\n",
    "    \n",
    "    outdf['Authors'] = subdf['Authors']      \n",
    "    outdf['keywords'] = subdf['keywords']\n",
    "    outdf['Applications'] = subdf['Applications']\n",
    "    outdf['Emerging Technologies'] = subdf['Emerging Technologies']\n",
    "    outdf['ML'] = subdf['ML']\n",
    "    outdf['Challenges'] = subdf['Challenges']\n",
    "    outdf['Future Works'] = subdf['Future Works']\n",
    "    outdf['Year'] = subdf['Year']\n",
    "\n",
    "    \n",
    "    #adf= application_df.drop_duplicates(keep='first')\n",
    "    \n",
    "    #print('getTable2 length outdf', len(outdf))\n",
    "    #writer = pd.ExcelWriter(QueryName+'.xlsx')\n",
    "    #outdf.to_excel(writer,'Sheet1')\n",
    "    #writer.save()\n",
    "    \n",
    "    return  outdf\n",
    "#application_df.head(5)\n",
    "\n"
   ]
  },
  {
   "cell_type": "code",
   "execution_count": 98,
   "metadata": {
    "collapsed": true
   },
   "outputs": [],
   "source": [
    "df =allref\n",
    "retd = getTable3(df)\n",
    "\n",
    "df['index'] = df['Emerging Technologies'].isna()\n",
    "#df['index']"
   ]
  },
  {
   "cell_type": "code",
   "execution_count": 99,
   "metadata": {},
   "outputs": [
    {
     "name": "stdout",
     "output_type": "stream",
     "text": [
      "131\n",
      "getTable2 length outdf 24\n",
      "24\n"
     ]
    }
   ],
   "source": [
    "\n",
    "#print(df.head(15))\n",
    "query = \"index == False\"\n",
    "QueryName = \"Emerging Technologies\"\n",
    "print(len(df))\n",
    "retd = getTable2(query, df, QueryName,True)\n",
    "print(len(retd))\n",
    "#print(retd.head(15))\n",
    "#print(df['Emerging Technologies'][1])\n",
    "#df['index'] = df['Emerging Technologies'].isna()\n",
    "#df.head()\n",
    "#query = \"index !=-1\"\n",
    "#QueryName = \"EmergingTechnology\"\n",
    "#retd = getTable1(query, allref, QueryName,True)"
   ]
  },
  {
   "cell_type": "code",
   "execution_count": 100,
   "metadata": {
    "collapsed": true
   },
   "outputs": [],
   "source": [
    "from wordcloud import WordCloud, STOPWORDS, ImageColorGenerator"
   ]
  },
  {
   "cell_type": "code",
   "execution_count": 101,
   "metadata": {},
   "outputs": [
    {
     "data": {
      "text/plain": [
       "pandas.core.frame.DataFrame"
      ]
     },
     "execution_count": 101,
     "metadata": {},
     "output_type": "execute_result"
    }
   ],
   "source": [
    "type(retd)\n"
   ]
  },
  {
   "cell_type": "code",
   "execution_count": 102,
   "metadata": {
    "collapsed": true
   },
   "outputs": [],
   "source": [
    "\n",
    "#retd = retd.fillna('Text Analysis', regex=True)\n",
    "# Start with one review:\n",
    "text = retd.to_string()\n",
    "\n",
    "#text\n",
    "#text.to_string()\n",
    "#print(type(text))t"
   ]
  },
  {
   "cell_type": "code",
   "execution_count": 103,
   "metadata": {},
   "outputs": [
    {
     "data": {
      "image/png": "[encoded data removed]",
      "text/plain": [
       "<matplotlib.figure.Figure at 0x1519df1bc50>"
      ]
     },
     "metadata": {},
     "output_type": "display_data"
    }
   ],
   "source": [
    "\n",
    "# Create and generate a word cloud image:\n",
    "wordcloud = WordCloud(background_color='white').generate(text)\n",
    "\n",
    "# Display the generated image:\n",
    "plt.imshow(wordcloud, interpolation='bilinear')\n",
    "plt.axis(\"off\")\n",
    "plt.show()"
   ]
  }
 ],
 "metadata": {
  "kernelspec": {
   "display_name": "Python 3",
   "language": "python",
   "name": "python3"
  },
  "language_info": {
   "codemirror_mode": {
    "name": "ipython",
    "version": 3
   },
   "file_extension": ".py",
   "mimetype": "text/x-python",
   "name": "python",
   "nbconvert_exporter": "python",
   "pygments_lexer": "ipython3",
   "version": "3.6.1"
  }
 },
 "nbformat": 4,
 "nbformat_minor": 2
}
